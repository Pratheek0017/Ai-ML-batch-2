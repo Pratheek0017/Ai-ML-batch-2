{
 "cells": [
  {
   "cell_type": "markdown",
   "metadata": {},
   "source": [
    "## Question 1:\n",
    "\n",
    "### Create an element-wise comparison (greater, greater_equal, less and less_equal) of two given arrays"
   ]
  },
  {
   "cell_type": "code",
   "execution_count": 1,
   "metadata": {},
   "outputs": [
    {
     "name": "stdout",
     "output_type": "stream",
     "text": [
      "Original numbers:\n",
      "[30 50]\n",
      "[20 50]\n",
      "Comparison - greater\n",
      "[ True False]\n",
      "Comparison - greater_equal\n",
      "[ True  True]\n",
      "Comparison - less\n",
      "[False False]\n",
      "Comparison - less_equal\n",
      "[False  True]\n"
     ]
    }
   ],
   "source": [
    "import numpy as np\n",
    "x = np.array([30, 50])\n",
    "y = np.array([20, 50])\n",
    "print(\"Original numbers:\")\n",
    "print(x)\n",
    "print(y)\n",
    "print(\"Comparison - greater\")\n",
    "print(np.greater(x, y))\n",
    "print(\"Comparison - greater_equal\")\n",
    "print(np.greater_equal(x, y))\n",
    "print(\"Comparison - less\")\n",
    "print(np.less(x, y))\n",
    "print(\"Comparison - less_equal\")\n",
    "print(np.less_equal(x, y))"
   ]
  },
  {
   "cell_type": "markdown",
   "metadata": {},
   "source": [
    "## Question 2:\n",
    "\n",
    "### Write a NumPy program to create an array of 10 zeros,10 ones, 10 fives"
   ]
  },
  {
   "cell_type": "code",
   "execution_count": 2,
   "metadata": {},
   "outputs": [
    {
     "name": "stdout",
     "output_type": "stream",
     "text": [
      "array of 10 zeros: [0. 0. 0. 0. 0. 0. 0. 0. 0. 0.]\n",
      "array of 10 ones: [1. 1. 1. 1. 1. 1. 1. 1. 1. 1.]\n",
      "array of 10 fives: [5. 5. 5. 5. 5. 5. 5. 5. 5. 5.]\n"
     ]
    }
   ],
   "source": [
    "array=np.zeros(10)\n",
    "print(\"array of 10 zeros:\", array)\n",
    "array=np.ones(10)\n",
    "print(\"array of 10 ones:\", array)\n",
    "array=np.ones(10)*5\n",
    "print(\"array of 10 fives:\", array)"
   ]
  },
  {
   "cell_type": "markdown",
   "metadata": {},
   "source": [
    "## Question 3:\n",
    "\n",
    "### Write a NumPy program to compute sum of all elements, sum of each column and sum of each row of a given array"
   ]
  },
  {
   "cell_type": "code",
   "execution_count": 3,
   "metadata": {},
   "outputs": [
    {
     "name": "stdout",
     "output_type": "stream",
     "text": [
      "Original array:\n",
      "[[10 20 30]\n",
      " [20 30 40]]\n",
      "Sum of all elements:\n",
      "150\n",
      "Sum of each column:\n",
      "[30 50 70]\n",
      "Sum of each row:\n",
      "[60 90]\n"
     ]
    }
   ],
   "source": [
    "x = np.array([[10,20,30],[20,30,40]])\n",
    "print(\"Original array:\")\n",
    "print(x)\n",
    "print(\"Sum of all elements:\")\n",
    "print(np.sum(x))\n",
    "print(\"Sum of each column:\")\n",
    "print(np.sum(x, axis=0))\n",
    "print(\"Sum of each row:\")\n",
    "print(np.sum(x, axis=1))"
   ]
  },
  {
   "cell_type": "markdown",
   "metadata": {},
   "source": [
    "## Question 4:\n",
    "\n",
    "### Write a NumPy program to add, subtract, multiply, divide arguments element-wise."
   ]
  },
  {
   "cell_type": "code",
   "execution_count": 4,
   "metadata": {},
   "outputs": [
    {
     "name": "stdout",
     "output_type": "stream",
     "text": [
      "Add: 50\n",
      "Subtract: -30\n",
      "Multiply: 400\n",
      "Divide: 0.25\n"
     ]
    }
   ],
   "source": [
    "print(\"Add:\", np.add(10, 40))\n",
    "print(\"Subtract:\", np.subtract(10, 40))\n",
    "\n",
    "print(\"Multiply:\", np.multiply(10, 40))\n",
    "\n",
    "print(\"Divide:\", np.divide(10, 40))"
   ]
  },
  {
   "cell_type": "markdown",
   "metadata": {},
   "source": [
    "## Question 5:\n",
    "\n",
    "### Write a NumPy program to compute the trigonometric sine, cosine and tangent array of angles given in degree."
   ]
  },
  {
   "cell_type": "code",
   "execution_count": 5,
   "metadata": {},
   "outputs": [
    {
     "name": "stdout",
     "output_type": "stream",
     "text": [
      "sin: array of angles given in degrees\n",
      "[0.         0.5        0.70710678 0.8660254  1.        ]\n",
      "cos: array of angles given in degrees\n",
      "[1.00000000e+00 8.66025404e-01 7.07106781e-01 5.00000000e-01\n",
      " 6.12323400e-17]\n",
      "tan: array of angles given in degrees\n",
      "[0.00000000e+00 5.77350269e-01 1.00000000e+00 1.73205081e+00\n",
      " 1.63312394e+16]\n"
     ]
    }
   ],
   "source": [
    "print(\"sin: array of angles given in degrees\")\n",
    "print(np.sin(np.array((0., 30., 45., 60., 90.)) * np.pi / 180.))\n",
    "print(\"cos: array of angles given in degrees\")\n",
    "print(np.cos(np.array((0., 30., 45., 60., 90.)) * np.pi / 180.))\n",
    "print(\"tan: array of angles given in degrees\")\n",
    "print(np.tan(np.array((0., 30., 45., 60., 90.)) * np.pi / 180.))"
   ]
  },
  {
   "cell_type": "markdown",
   "metadata": {},
   "source": [
    "## Question 6:\n",
    "\n",
    "### Write a Pandas program to create and display a DataFrame from a specified dictionary data which has the index labels"
   ]
  },
  {
   "cell_type": "code",
   "execution_count": 6,
   "metadata": {},
   "outputs": [
    {
     "name": "stdout",
     "output_type": "stream",
     "text": [
      "        name  score  attempts qualify\n",
      "a  Anastasia   12.5         1     yes\n",
      "b       Dima    9.0         3      no\n",
      "c  Katherine   16.5         2     yes\n",
      "d      James    NaN         3      no\n",
      "e      Emily    9.0         2      no\n",
      "f    Michael   20.0         3     yes\n",
      "g    Matthew   14.5         1     yes\n",
      "h      Laura    NaN         1      no\n",
      "i      Kevin    8.0         2      no\n",
      "j      Jonas   19.0         1     yes\n"
     ]
    }
   ],
   "source": [
    "import pandas as pd\n",
    "import numpy as np\n",
    "\n",
    "exam_data  = {'name': ['Anastasia', 'Dima', 'Katherine', 'James', 'Emily', 'Michael', 'Matthew', 'Laura', 'Kevin', 'Jonas'],\n",
    "        'score': [12.5, 9, 16.5, np.nan, 9, 20, 14.5, np.nan, 8, 19],\n",
    "        'attempts': [1, 3, 2, 3, 2, 3, 1, 1, 2, 1],\n",
    "        'qualify': ['yes', 'no', 'yes', 'no', 'no', 'yes', 'yes', 'no', 'no', 'yes']}\n",
    "labels = ['a', 'b', 'c', 'd', 'e', 'f', 'g', 'h', 'i', 'j']\n",
    "\n",
    "df = pd.DataFrame(exam_data , index=labels)\n",
    "print(df)"
   ]
  },
  {
   "cell_type": "markdown",
   "metadata": {},
   "source": [
    "## Question 7:\n",
    "\n",
    "### Write a Pandas program to select the 'name' and 'score' columns from the following DataFrame."
   ]
  },
  {
   "cell_type": "code",
   "execution_count": 7,
   "metadata": {},
   "outputs": [
    {
     "name": "stdout",
     "output_type": "stream",
     "text": [
      "Select specific columns:\n",
      "        name  score\n",
      "a  Anastasia   12.5\n",
      "b       Dima    9.0\n",
      "c  Katherine   16.5\n",
      "d      James    NaN\n",
      "e      Emily    9.0\n",
      "f    Michael   20.0\n",
      "g    Matthew   14.5\n",
      "h      Laura    NaN\n",
      "i      Kevin    8.0\n",
      "j      Jonas   19.0\n"
     ]
    }
   ],
   "source": [
    "exam_data  = {'name': ['Anastasia', 'Dima', 'Katherine', 'James', 'Emily', 'Michael', 'Matthew', 'Laura', 'Kevin', 'Jonas'],\n",
    "        'score': [12.5, 9, 16.5, np.nan, 9, 20, 14.5, np.nan, 8, 19],\n",
    "        'attempts': [1, 3, 2, 3, 2, 3, 1, 1, 2, 1],\n",
    "        'qualify': ['yes', 'no', 'yes', 'no', 'no', 'yes', 'yes', 'no', 'no', 'yes']}\n",
    "labels = ['a', 'b', 'c', 'd', 'e', 'f', 'g', 'h', 'i', 'j']\n",
    "\n",
    "df = pd.DataFrame(exam_data , index=labels)\n",
    "print(\"Select specific columns:\")\n",
    "print(df[['name', 'score']])"
   ]
  },
  {
   "cell_type": "code",
   "execution_count": null,
   "metadata": {},
   "outputs": [],
   "source": []
  }
 ],
 "metadata": {
  "kernelspec": {
   "display_name": "Python 3",
   "language": "python",
   "name": "python3"
  },
  "language_info": {
   "codemirror_mode": {
    "name": "ipython",
    "version": 3
   },
   "file_extension": ".py",
   "mimetype": "text/x-python",
   "name": "python",
   "nbconvert_exporter": "python",
   "pygments_lexer": "ipython3",
   "version": "3.7.6"
  }
 },
 "nbformat": 4,
 "nbformat_minor": 4
}
