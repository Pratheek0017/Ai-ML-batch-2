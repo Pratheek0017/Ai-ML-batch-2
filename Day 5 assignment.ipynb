{
 "cells": [
  {
   "cell_type": "markdown",
   "metadata": {},
   "source": [
    "## Question 1 :\n",
    "\n",
    "### Write a Python program to find the first 20 non-even prime natural numbers"
   ]
  },
  {
   "cell_type": "code",
   "execution_count": 1,
   "metadata": {},
   "outputs": [
    {
     "name": "stdout",
     "output_type": "stream",
     "text": [
      "Prime numbers between 3 and 20 are:\n",
      "3\n",
      "5\n",
      "7\n",
      "11\n",
      "13\n",
      "17\n",
      "19\n"
     ]
    }
   ],
   "source": [
    "Lower = 3\n",
    "Upper = 20\n",
    "\n",
    "print(\"Prime numbers between\", Lower, \"and\", Upper, \"are:\")\n",
    "\n",
    "for num in range(Lower, Upper + 1):\n",
    "   # all prime numbers are greater than 1\n",
    "   if num > 1:\n",
    "       for i in range(2, num):\n",
    "           if (num % i) == 0:\n",
    "               break\n",
    "       else:\n",
    "           print(num)"
   ]
  },
  {
   "cell_type": "markdown",
   "metadata": {},
   "source": [
    "## Question 2 :\n",
    "\n",
    "### Write a Python program to implement 15 functions of string."
   ]
  },
  {
   "cell_type": "code",
   "execution_count": 4,
   "metadata": {},
   "outputs": [
    {
     "name": "stdout",
     "output_type": "stream",
     "text": [
      "Pratheek\n",
      "2202\n",
      "  \n",
      "TASKFORCE\n",
      "Sre 1954 : Convert String in lowercase: sre 1954 \n",
      "\n",
      "Sre 1954 : Convert String in uppercase: SRE 1954 \n",
      "\n",
      "\n",
      "startswith check if a string starts with a specified substring\n",
      "True\n",
      "False\n",
      "5\n",
      "-1\n",
      "4\n",
      "-1\n",
      "0\n",
      "Too Bad\n"
     ]
    }
   ],
   "source": [
    "\n",
    "def main():\n",
    "    \n",
    "    str = \"Pratheek\"\n",
    "    if str.isalnum():\n",
    "        print(str)\n",
    " \n",
    "    str = \"2202\"\n",
    "    if str.isdigit():\n",
    "        print(str)\n",
    " \n",
    "    str = \"Royal Challengers\"\n",
    "    if str.isalpha():\n",
    "        print(str)\n",
    " \n",
    "    str = \"  \"\n",
    "    if str.isspace():\n",
    "        print(str)\n",
    " \n",
    "    str = \"TASKFORCE\"\n",
    "    if str.isupper():\n",
    "        print(str)\n",
    " \n",
    "    str = \"So Beautiful\"\n",
    "    if str.islower():\n",
    "        print(str)\n",
    " \n",
    "    user_string = \"Sre 1954\"\n",
    "    toLower = user_string.lower()\n",
    "    print(user_string, ': Convert String in lowercase:', toLower, '\\n')\n",
    " \n",
    "    toUpper = user_string.upper()\n",
    "    print(user_string, ': Convert String in uppercase:', toUpper, '\\n')\n",
    "    \n",
    "    \n",
    "    print('\\nstartswith check if a string starts with a specified substring')\n",
    "    user_string = \"Asian\"\n",
    "    print(user_string.startswith('Asi'))\n",
    "    print(user_string.startswith('ian'))\n",
    " \n",
    "    \n",
    "    user_string = \"Beautiful\"\n",
    "    print(user_string.find('iful'))\n",
    "    print(user_string.find('beufi'))\n",
    "    print(user_string.find('tif'))\n",
    "    print(user_string.find('bea'))\n",
    "    print(user_string.find('Bea'))\n",
    " \n",
    "    \n",
    "    user_string = \"Too Good\"\n",
    "    old = \"Good\"\n",
    "    new = \"Bad\"\n",
    "    print(user_string.replace(old, new))\n",
    " \n",
    "main()\n",
    "    "
   ]
  },
  {
   "cell_type": "markdown",
   "metadata": {},
   "source": [
    "## Question 3:\n",
    "\n",
    "### Write a Python program to check if the given string is a Palindrome or Anagram or None of them. Display the message accordingly to the user."
   ]
  },
  {
   "cell_type": "code",
   "execution_count": 5,
   "metadata": {},
   "outputs": [
    {
     "name": "stdout",
     "output_type": "stream",
     "text": [
      "Yes\n",
      "No\n"
     ]
    }
   ],
   "source": [
    "NO_OF_CHARS = 364\n",
    "    \n",
    "def Palindrome(string): \n",
    "\n",
    "    count = [0 for i in range(NO_OF_CHARS)] \n",
    "    \n",
    "    for i in string: \n",
    "        count[ord(i)] += 1\n",
    "    \n",
    "    odd = 0\n",
    "    for i in range(NO_OF_CHARS): \n",
    "        if (count[i] & 1): \n",
    "            odd += 1\n",
    "   \n",
    "        if (odd > 1): \n",
    "            return False\n",
    "    \n",
    "    return True\n",
    "    \n",
    "if(Palindrome(\"malayalam\")): \n",
    "    print(\"Yes\") \n",
    "else: \n",
    "    print(\"No\") \n",
    "if(Palindrome(\"tesla\")): \n",
    "    print(\"Yes\") \n",
    "else: \n",
    "    print(\"No\")"
   ]
  },
  {
   "cell_type": "markdown",
   "metadata": {},
   "source": [
    "## Qustion 5\n",
    "\n",
    "### Write a Python's user-defined function that removes all the additional characters from the string and convert it finally to lower case using built-in lower(). eg: If the string is \"Dr. Darshan Ingle @AIML Trainer\", then the output be \"drdarshaningleaimltrainer\"."
   ]
  },
  {
   "cell_type": "code",
   "execution_count": 6,
   "metadata": {},
   "outputs": [
    {
     "name": "stdout",
     "output_type": "stream",
     "text": [
      "drdarshaningleaimltrainer\n"
     ]
    }
   ],
   "source": [
    "def remove(string): \n",
    "    return string.replace(\" \",\"\") \n",
    "      \n",
    "\n",
    "string = 'Dr Darshan Ingle AIML Trainer'\n",
    "print(remove(string).lower())"
   ]
  },
  {
   "cell_type": "code",
   "execution_count": null,
   "metadata": {},
   "outputs": [],
   "source": []
  }
 ],
 "metadata": {
  "kernelspec": {
   "display_name": "Python 3",
   "language": "python",
   "name": "python3"
  },
  "language_info": {
   "codemirror_mode": {
    "name": "ipython",
    "version": 3
   },
   "file_extension": ".py",
   "mimetype": "text/x-python",
   "name": "python",
   "nbconvert_exporter": "python",
   "pygments_lexer": "ipython3",
   "version": "3.7.6"
  }
 },
 "nbformat": 4,
 "nbformat_minor": 4
}
