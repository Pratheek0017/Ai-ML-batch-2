{
 "cells": [
  {
   "cell_type": "markdown",
   "metadata": {},
   "source": [
    "## Question 1 :\n",
    "### Research on whether addition, subtraction, multiplication, division, floor division, and modulo operations be performed on complex numbers. Based on your study, implement a Python program to demonstrate these operations."
   ]
  },
  {
   "cell_type": "code",
   "execution_count": 1,
   "metadata": {},
   "outputs": [
    {
     "name": "stdout",
     "output_type": "stream",
     "text": [
      "Addition is :  (8+7j)\n",
      "Subtraction is :  (3-3j)\n",
      "Multiplication is :  (-8+6j)\n",
      "Division is :  (1.0999999999999999+0.3j)\n"
     ]
    }
   ],
   "source": [
    "#Addition\n",
    "def addComplex( a, b): \n",
    "    return a+b\n",
    "a = complex(4, 5) \n",
    "b = complex(4, 2) \n",
    "print( \"Addition is : \", addComplex(a, b)) \n",
    "\n",
    "#Subtraction\n",
    "def subComplex( a, b): \n",
    "    return a-b \n",
    "a = complex(4, 3) \n",
    "b = complex(1, 6) \n",
    "print( \"Subtraction is : \", subComplex(a, b)) \n",
    "\n",
    "#Multiplication\n",
    "def mulComplex( a, b): \n",
    "    return a*a \n",
    "a = complex(1, 3) \n",
    "b = complex(2, 4) \n",
    "print( \"Multiplication is : \", mulComplex(a, b)) \n",
    "\n",
    "#Division\n",
    "def divComplex( a, b): \n",
    "    return a/b\n",
    "a = complex(3, 2) \n",
    "b = complex(3, 1) \n",
    "print( \"Division is : \", divComplex(a, b)) "
   ]
  },
  {
   "cell_type": "markdown",
   "metadata": {},
   "source": [
    "\n",
    "## Question 2 :\n",
    "\n",
    "### Research on range() functions and its parameters. Create a markdown cell and write in your own words (no copy-paste from google please) what you understand about it. Implement a small program of your choice on the same.\n"
   ]
  },
  {
   "cell_type": "markdown",
   "metadata": {},
   "source": [
    "\n",
    "\n",
    "\n"
   ]
  },
  {
   "cell_type": "markdown",
   "metadata": {},
   "source": []
  },
  {
   "cell_type": "markdown",
   "metadata": {},
   "source": [
    "Range()\n",
    "Range() is the Python Built in Function,which helps to write the sequence of numbers.\n",
    "\n",
    "Syntax:\n",
    "range(starting point, Ending Point, increment)"
   ]
  },
  {
   "cell_type": "code",
   "execution_count": 7,
   "metadata": {},
   "outputs": [
    {
     "name": "stdout",
     "output_type": "stream",
     "text": [
      "18\n",
      "20\n",
      "22\n",
      "24\n",
      "26\n",
      "28\n",
      "30\n",
      "32\n",
      "34\n",
      "36\n",
      "38\n",
      "40\n",
      "42\n",
      "44\n"
     ]
    }
   ],
   "source": [
    "for i in range(18,45,2):\n",
    "      print(i)"
   ]
  },
  {
   "cell_type": "markdown",
   "metadata": {},
   "source": [
    "\n",
    "## Question 3:\n",
    "\n",
    "### Consider two numbers. Perform their subtraction and if the result of subtraction is greater than 25, print their multiplication result else print their division result"
   ]
  },
  {
   "cell_type": "code",
   "execution_count": 8,
   "metadata": {},
   "outputs": [
    {
     "name": "stdout",
     "output_type": "stream",
     "text": [
      "Enter number for x :23\n",
      "Enter number for y :12\n",
      "1.9166666666666667\n"
     ]
    }
   ],
   "source": [
    "\n",
    "num1 = input(\"Enter number for x :\") \n",
    "x=int(num1)\n",
    "num2 = input(\"Enter number for y :\") \n",
    "y=int(num2)\n",
    "\n",
    "if x-y>25:\n",
    "    print(x*y)\n",
    "else:\n",
    "    print(x/y)"
   ]
  },
  {
   "cell_type": "markdown",
   "metadata": {},
   "source": [
    "\n",
    "## Question 4:\n",
    "\n",
    "### Consider a list of 10 elements of integer values. If the number in the list is divisible by 2, print the result as \"square of that number minus 2\"."
   ]
  },
  {
   "cell_type": "code",
   "execution_count": 13,
   "metadata": {},
   "outputs": [
    {
     "name": "stdout",
     "output_type": "stream",
     "text": [
      "square of that number minus 2\n",
      "Its odd\n",
      "square of that number minus 2\n",
      "Its odd\n",
      "square of that number minus 2\n",
      "Its odd\n",
      "square of that number minus 2\n",
      "Its odd\n",
      "square of that number minus 2\n"
     ]
    }
   ],
   "source": [
    "x = [11,12,13,14,15,16,17,18,19,20]\n",
    "for i in range(1,10):\n",
    "    if x[i]%2==0:\n",
    "        print(\"square of that number minus 2\")\n",
    "    else:\n",
    "        print(\"Its odd\")"
   ]
  },
  {
   "cell_type": "markdown",
   "metadata": {},
   "source": [
    "## Question 5:\n",
    "\n",
    "### Consider a list of 10 elements. Print all the elements in the list which are greater than 7 when that number is divided 2."
   ]
  },
  {
   "cell_type": "code",
   "execution_count": 16,
   "metadata": {},
   "outputs": [
    {
     "name": "stdout",
     "output_type": "stream",
     "text": [
      "21\n",
      "22\n",
      "23\n",
      "24\n",
      "25\n",
      "26\n",
      "27\n",
      "28\n",
      "29\n",
      "30\n"
     ]
    }
   ],
   "source": [
    "l = [21,22,23,24,25,26,27,28,29,30]\n",
    "for i in range(0,10):\n",
    "    if l[i]/2>7:\n",
    "        print(l[i])"
   ]
  },
  {
   "cell_type": "code",
   "execution_count": null,
   "metadata": {},
   "outputs": [],
   "source": []
  }
 ],
 "metadata": {
  "kernelspec": {
   "display_name": "Python 3",
   "language": "python",
   "name": "python3"
  },
  "language_info": {
   "codemirror_mode": {
    "name": "ipython",
    "version": 3
   },
   "file_extension": ".py",
   "mimetype": "text/x-python",
   "name": "python",
   "nbconvert_exporter": "python",
   "pygments_lexer": "ipython3",
   "version": "3.7.6"
  }
 },
 "nbformat": 4,
 "nbformat_minor": 4
}
