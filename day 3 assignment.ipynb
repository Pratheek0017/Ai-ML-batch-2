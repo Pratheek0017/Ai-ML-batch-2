{
 "cells": [
  {
   "cell_type": "markdown",
   "metadata": {},
   "source": [
    "## Question 1\n",
    "\n",
    "### Write a program to subtract two complex numbers in python\n",
    "\n"
   ]
  },
  {
   "cell_type": "code",
   "execution_count": 3,
   "metadata": {},
   "outputs": [
    {
     "name": "stdout",
     "output_type": "stream",
     "text": [
      "Subtraction of two numbers is (-3+0j)\n"
     ]
    }
   ],
   "source": [
    "def subcomplex(a1,b1):\n",
    "    return a1-b1\n",
    "\n",
    "a1=complex(3 ,4)\n",
    "b1=complex(6, 4)\n",
    "print(\"Subtraction of two numbers is\",subcomplex(a1, b1))"
   ]
  },
  {
   "cell_type": "markdown",
   "metadata": {},
   "source": [
    "## Question 2\n",
    "\n",
    "### Write a program to find fourth root of a number"
   ]
  },
  {
   "cell_type": "code",
   "execution_count": 5,
   "metadata": {},
   "outputs": [
    {
     "name": "stdout",
     "output_type": "stream",
     "text": [
      "The fourth root of the number is 1.681792830507429\n"
     ]
    }
   ],
   "source": [
    "a=8\n",
    "b=a**0.25\n",
    "print(\"The fourth root of the number is\",b)"
   ]
  },
  {
   "cell_type": "markdown",
   "metadata": {},
   "source": [
    "### Question 3\n",
    "### Write a program to  swap two numbers in python with the help of temporary variable "
   ]
  },
  {
   "cell_type": "code",
   "execution_count": 15,
   "metadata": {},
   "outputs": [
    {
     "name": "stdout",
     "output_type": "stream",
     "text": [
      "The value of a after swapping is 30\n",
      "The value of b after swapping is 10\n"
     ]
    }
   ],
   "source": [
    "a=10\n",
    "b= 30\n",
    "\n",
    "temp = a\n",
    "a = b\n",
    "b = temp\n",
    "\n",
    "print(\"The value of a after swapping is {}\".format(a))\n",
    "print(\"The value of b after swapping is {}\".format(b))"
   ]
  },
  {
   "cell_type": "markdown",
   "metadata": {},
   "source": [
    "## Question 4\n",
    "### Write a program to swap two numbers in python without using temporary variable"
   ]
  },
  {
   "cell_type": "code",
   "execution_count": 19,
   "metadata": {},
   "outputs": [
    {
     "name": "stdout",
     "output_type": "stream",
     "text": [
      "a= 90\n",
      "b= 20\n"
     ]
    }
   ],
   "source": [
    "a=20\n",
    "b=90\n",
    "a,b=b,a\n",
    "\n",
    "print(\"a=\",a)\n",
    "print(\"b=\",b)"
   ]
  },
  {
   "cell_type": "markdown",
   "metadata": {},
   "source": [
    "### Question 5\n",
    "## Write a program to convert farenhiet to celcius and kelvin both"
   ]
  },
  {
   "cell_type": "code",
   "execution_count": 11,
   "metadata": {},
   "outputs": [
    {
     "name": "stdout",
     "output_type": "stream",
     "text": [
      "Temperature in Kelvin (K) = 300.72\n"
     ]
    }
   ],
   "source": [
    "def Fahrenheit_to_Kelvin(F): \n",
    "    return 273.5 + ((F - 32.0) * (5/9)) \n",
    "\n",
    "F = 81\n",
    "print(\"Temperature in Kelvin (K) = {:.2f}\" .format(Fahrenheit_to_Kelvin(F)))"
   ]
  },
  {
   "cell_type": "markdown",
   "metadata": {},
   "source": [
    "## Question 6\n",
    "### Write a program to demonstrate all the datatypes in python. Hint use type() function"
   ]
  },
  {
   "cell_type": "code",
   "execution_count": 12,
   "metadata": {},
   "outputs": [
    {
     "name": "stdout",
     "output_type": "stream",
     "text": [
      "25 is of type <class 'int'>\n",
      "hat is of type <class 'str'>\n",
      "3.23 is of type <class 'float'>\n"
     ]
    }
   ],
   "source": [
    "x=25\n",
    "print(x, \"is of type\",type(x))\n",
    "\n",
    "y=\"hat\"\n",
    "print(y, \"is of type\",type(y))\n",
    "\n",
    "z=3.23\n",
    "print(z, \"is of type\",type(z))"
   ]
  },
  {
   "cell_type": "code",
   "execution_count": null,
   "metadata": {},
   "outputs": [],
   "source": []
  }
 ],
 "metadata": {
  "kernelspec": {
   "display_name": "Python 3",
   "language": "python",
   "name": "python3"
  },
  "language_info": {
   "codemirror_mode": {
    "name": "ipython",
    "version": 3
   },
   "file_extension": ".py",
   "mimetype": "text/x-python",
   "name": "python",
   "nbconvert_exporter": "python",
   "pygments_lexer": "ipython3",
   "version": "3.7.6"
  }
 },
 "nbformat": 4,
 "nbformat_minor": 4
}
